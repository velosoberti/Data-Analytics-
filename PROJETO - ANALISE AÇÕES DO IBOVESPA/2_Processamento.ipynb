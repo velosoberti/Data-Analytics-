{
 "cells": [
  {
   "cell_type": "markdown",
   "id": "933c04ef",
   "metadata": {},
   "source": [
    "## 2 - Processamentos\n"
   ]
  },
  {
   "cell_type": "code",
   "execution_count": 3,
   "id": "11d37c2b",
   "metadata": {},
   "outputs": [],
   "source": [
    "import pandas as pd\n",
    "import numpy as np"
   ]
  },
  {
   "cell_type": "code",
   "execution_count": 4,
   "id": "efe6d062",
   "metadata": {},
   "outputs": [],
   "source": [
    "close = pd.read_csv('D_CLOSE.csv')\n",
    "prob = pd.read_csv('D_PROB.csv')"
   ]
  },
  {
   "cell_type": "code",
   "execution_count": 5,
   "id": "21399722",
   "metadata": {},
   "outputs": [],
   "source": [
    "cp = pd.concat([close,prob], axis=1)"
   ]
  },
  {
   "cell_type": "code",
   "execution_count": 6,
   "id": "522f0008",
   "metadata": {},
   "outputs": [],
   "source": [
    "# os valores de close so aparecem após às 10h - então preciso tirar os valores antes deste horário"
   ]
  },
  {
   "cell_type": "code",
   "execution_count": 7,
   "id": "26cc1b03",
   "metadata": {},
   "outputs": [],
   "source": [
    "cp = cp.loc[:,~cp.columns.duplicated()]"
   ]
  },
  {
   "cell_type": "code",
   "execution_count": 9,
   "id": "ddc017ea",
   "metadata": {},
   "outputs": [],
   "source": [
    "cp['Ano'] = cp['Data'].apply(lambda x: int(x.split(' ')[0].split('.')[0]))\n",
    "cp['Mes'] = cp['Data'].apply(lambda x: int(x.split(' ')[0].split('.')[1]))\n",
    "cp['Dia'] = cp['Data'].apply(lambda x: int(x.split(' ')[0].split('.')[2]))\n",
    "cp['Hora'] = cp['Data'].apply(lambda x: int(x.split(' ')[1].split(':')[0]))\n",
    "cp['Minuto'] = cp['Data'].apply(lambda x: int(x.split(' ')[1].split(':')[2]))"
   ]
  },
  {
   "cell_type": "code",
   "execution_count": 10,
   "id": "b54ddfa6",
   "metadata": {},
   "outputs": [
    {
     "data": {
      "text/plain": [
       "Data               0\n",
       "LastPrice          0\n",
       "BOVA11         17322\n",
       "Close_VALE     18435\n",
       "Close_ITUB     18245\n",
       "               ...  \n",
       "Ano                0\n",
       "Mes                0\n",
       "Dia                0\n",
       "Hora               0\n",
       "Minuto        143082\n",
       "Length: 94, dtype: int64"
      ]
     },
     "execution_count": 10,
     "metadata": {},
     "output_type": "execute_result"
    }
   ],
   "source": [
    "cp.isin([0]).sum()"
   ]
  },
  {
   "cell_type": "code",
   "execution_count": 11,
   "id": "5fb4b5a3",
   "metadata": {},
   "outputs": [],
   "source": [
    "c = cp.copy()"
   ]
  },
  {
   "cell_type": "code",
   "execution_count": 12,
   "id": "395468a4",
   "metadata": {},
   "outputs": [],
   "source": [
    "c.drop(c.index[c['Close_PETR'] == 0], inplace=True)"
   ]
  },
  {
   "cell_type": "code",
   "execution_count": 13,
   "id": "8b1c2158",
   "metadata": {},
   "outputs": [],
   "source": [
    "c.set_index('Data', inplace=True)"
   ]
  },
  {
   "cell_type": "code",
   "execution_count": 16,
   "id": "7a2d3998",
   "metadata": {},
   "outputs": [],
   "source": [
    "c.to_csv('DADOS_PROCESSADOS.csv')"
   ]
  },
  {
   "cell_type": "code",
   "execution_count": null,
   "id": "2e251334",
   "metadata": {},
   "outputs": [],
   "source": []
  }
 ],
 "metadata": {
  "kernelspec": {
   "display_name": "Python 3 (ipykernel)",
   "language": "python",
   "name": "python3"
  },
  "language_info": {
   "codemirror_mode": {
    "name": "ipython",
    "version": 3
   },
   "file_extension": ".py",
   "mimetype": "text/x-python",
   "name": "python",
   "nbconvert_exporter": "python",
   "pygments_lexer": "ipython3",
   "version": "3.11.4"
  }
 },
 "nbformat": 4,
 "nbformat_minor": 5
}
