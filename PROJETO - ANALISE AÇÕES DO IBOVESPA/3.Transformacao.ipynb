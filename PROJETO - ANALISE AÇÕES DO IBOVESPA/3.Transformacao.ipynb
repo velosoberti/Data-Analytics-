{
 "cells": [
  {
   "cell_type": "markdown",
   "id": "ba5e3b3f",
   "metadata": {},
   "source": [
    "## 3 - Transformacao dos Dados"
   ]
  },
  {
   "cell_type": "code",
   "execution_count": 146,
   "id": "c1ce2620",
   "metadata": {},
   "outputs": [],
   "source": [
    "import pandas as pd\n",
    "import numpy as np\n",
    "import matplotlib.pyplot as plt"
   ]
  },
  {
   "cell_type": "code",
   "execution_count": 147,
   "id": "eeaaf7a5",
   "metadata": {},
   "outputs": [],
   "source": [
    "d = pd.read_csv('DADOS_PROCESSADOS.csv')"
   ]
  },
  {
   "cell_type": "code",
   "execution_count": 148,
   "id": "0df58880",
   "metadata": {},
   "outputs": [],
   "source": [
    "d.set_index('Data', inplace=True)"
   ]
  },
  {
   "cell_type": "markdown",
   "id": "6f868207",
   "metadata": {},
   "source": [
    "## Vamos transformar os dados para obter os retornos dos preços r = (p2-p1)/p1 (percentual em variacao)"
   ]
  },
  {
   "cell_type": "code",
   "execution_count": 151,
   "id": "c4e9cb13",
   "metadata": {},
   "outputs": [],
   "source": [
    "filtra_col = [c for c in d if c.startswith('Close') or c.startswith('BOVA11') or c.startswith('LastPrice')]"
   ]
  },
  {
   "cell_type": "code",
   "execution_count": 153,
   "id": "fb189987",
   "metadata": {},
   "outputs": [],
   "source": [
    "dc = d[filtra_col]"
   ]
  },
  {
   "cell_type": "code",
   "execution_count": 154,
   "id": "59159cd8",
   "metadata": {},
   "outputs": [],
   "source": [
    "dr1 = dc.pct_change(1)\n",
    "dr5 = dc.pct_change(5)\n",
    "dr15 = dc.pct_change(15)"
   ]
  },
  {
   "cell_type": "code",
   "execution_count": 155,
   "id": "f4f1de30",
   "metadata": {},
   "outputs": [],
   "source": [
    "filtra_col_prob = [c for c in d if not c.startswith('Close') or c.startswith('BOVA11') or c.startswith('LastPrice')]"
   ]
  },
  {
   "cell_type": "code",
   "execution_count": 156,
   "id": "4d7074a8",
   "metadata": {},
   "outputs": [],
   "source": [
    "dp = d[filtra_col_prob]"
   ]
  },
  {
   "cell_type": "code",
   "execution_count": 157,
   "id": "97bb8a76",
   "metadata": {},
   "outputs": [],
   "source": [
    "dr1 = pd.concat([dp, dr1], axis=1)\n",
    "dr5 = pd.concat([dp, dr1], axis =1)\n",
    "dr15 = pd.concat([dp,dr15], axis =1)"
   ]
  },
  {
   "cell_type": "code",
   "execution_count": 158,
   "id": "a169f534",
   "metadata": {},
   "outputs": [],
   "source": [
    "dr1.dropna(inplace=True)\n",
    "dr5.dropna(inplace=True)\n",
    "dr15.dropna(inplace=True)"
   ]
  },
  {
   "cell_type": "code",
   "execution_count": 160,
   "id": "4295feb7",
   "metadata": {},
   "outputs": [],
   "source": [
    "dr1 = dr1[~dr1.isin([np.inf, -np.inf])]\n",
    "dr5 = dr5[~dr5.isin([np.inf, -np.inf])]\n",
    "dr15 = dr15[~dr15.isin([np.inf, -np.inf])]"
   ]
  },
  {
   "cell_type": "code",
   "execution_count": 163,
   "id": "d7f8a2d1",
   "metadata": {},
   "outputs": [],
   "source": [
    "dr1['Prob_SUBIR_Corr'] = dr1['Prob_SUBIR_Corr'].replace(7777, np.nan)\n",
    "dr5['Prob_SUBIR_Corr'] = dr5['Prob_SUBIR_Corr'].replace(7777, np.nan)\n",
    "dr15['Prob_SUBIR_Corr'] = dr15['Prob_SUBIR_Corr'].replace(7777, np.nan)"
   ]
  },
  {
   "cell_type": "code",
   "execution_count": 164,
   "id": "3f0c75fd",
   "metadata": {},
   "outputs": [],
   "source": [
    "dr1['Prob_SUBIR_Corr'] = dr1['Prob_SUBIR_Corr'].fillna(dr1['Prob_SUBIR_Corr'].mean())\n",
    "dr5['Prob_SUBIR_Corr'] = dr5['Prob_SUBIR_Corr'].fillna(dr5['Prob_SUBIR_Corr'].mean())\n",
    "dr15['Prob_SUBIR_Corr'] = dr15['Prob_SUBIR_Corr'].fillna(dr15['Prob_SUBIR_Corr'].mean())"
   ]
  },
  {
   "cell_type": "code",
   "execution_count": 165,
   "id": "2a92f6fb",
   "metadata": {},
   "outputs": [],
   "source": [
    "def replace7777tomean(df, col_name):\n",
    "    df[col_name] = df[col_name].replace(7777, np.nan)\n",
    "    df[col_name] = df[col_name].fillna(df[col_name].mean())\n",
    "    return df"
   ]
  },
  {
   "cell_type": "code",
   "execution_count": 166,
   "id": "716d0010",
   "metadata": {},
   "outputs": [],
   "source": [
    "dr1 = replace7777tomean(dr1, 'Prob_SUBIR_Pond_Corr_Pessos')"
   ]
  },
  {
   "cell_type": "code",
   "execution_count": 167,
   "id": "1ade05ba",
   "metadata": {},
   "outputs": [],
   "source": [
    "dr5 = replace7777tomean(dr5, 'Prob_SUBIR_Pond_Corr_Pessos')"
   ]
  },
  {
   "cell_type": "code",
   "execution_count": 168,
   "id": "5e3c5409",
   "metadata": {},
   "outputs": [],
   "source": [
    "dr15 = replace7777tomean(dr15, 'Prob_SUBIR_Pond_Corr_Pessos')"
   ]
  },
  {
   "cell_type": "markdown",
   "id": "e10ea013",
   "metadata": {},
   "source": [
    "## Categorizando os dados\n",
    "\n",
    "Probabilidade - varia de 0 a 1 - se menor que 0.5 a prob é baixa se maior que 0.5 é alta "
   ]
  },
  {
   "cell_type": "code",
   "execution_count": 169,
   "id": "a59a81e7",
   "metadata": {},
   "outputs": [
    {
     "data": {
      "text/plain": [
       "count    108918.000000\n",
       "mean          0.498581\n",
       "std           0.151176\n",
       "min           0.003000\n",
       "25%           0.399000\n",
       "50%           0.507000\n",
       "75%           0.604000\n",
       "max           0.965000\n",
       "Name: Prob_SUBIR, dtype: float64"
      ]
     },
     "execution_count": 169,
     "metadata": {},
     "output_type": "execute_result"
    }
   ],
   "source": [
    "dr1['Prob_SUBIR'].describe()"
   ]
  },
  {
   "cell_type": "code",
   "execution_count": 170,
   "id": "05f071fc",
   "metadata": {},
   "outputs": [
    {
     "data": {
      "text/plain": [
       "<Axes: >"
      ]
     },
     "execution_count": 170,
     "metadata": {},
     "output_type": "execute_result"
    },
    {
     "data": {
      "image/png": "[encoded data removed]",
      "text/plain": [
       "<Figure size 640x480 with 1 Axes>"
      ]
     },
     "metadata": {},
     "output_type": "display_data"
    }
   ],
   "source": [
    "dr1['Prob_SUBIR'].hist(bins=5)"
   ]
  },
  {
   "cell_type": "code",
   "execution_count": 171,
   "id": "275c4dd8",
   "metadata": {},
   "outputs": [],
   "source": [
    "#obtendo valores dos bins do histograma\n",
    "result, bins = pd.cut(dr1['Prob_SUBIR'], bins=5, retbins=True)"
   ]
  },
  {
   "cell_type": "code",
   "execution_count": 172,
   "id": "a0e6556c",
   "metadata": {},
   "outputs": [
    {
     "data": {
      "text/plain": [
       "array([0.002038, 0.1954  , 0.3878  , 0.5802  , 0.7726  , 0.965   ])"
      ]
     },
     "execution_count": 172,
     "metadata": {},
     "output_type": "execute_result"
    }
   ],
   "source": [
    "bins"
   ]
  },
  {
   "cell_type": "code",
   "execution_count": 173,
   "id": "6105828a",
   "metadata": {},
   "outputs": [],
   "source": [
    "# de 0.002038 até 0.1954 = Muito baixo (MB), de 0.1954 até 0.3878 = Baixo (B), de 0.3878 até 0.5802 = Média(M)\n",
    "# de 0.5802 até 0.7726 = Alta (A), de 0.7726 até 0.965 = Muito Alta (MA)"
   ]
  },
  {
   "cell_type": "code",
   "execution_count": 174,
   "id": "1ffa6ea3",
   "metadata": {},
   "outputs": [],
   "source": [
    "#nomeando as categorias \n",
    "dd = pd.cut(dr1['Prob_SUBIR'], bins=[0.002038, 0.1954  , 0.3878  , 0.5802  , 0.7726  , 0.965], labels=['MB','B','M','A','MA'])"
   ]
  },
  {
   "cell_type": "code",
   "execution_count": 175,
   "id": "91e0421c",
   "metadata": {},
   "outputs": [
    {
     "data": {
      "text/plain": [
       "M     50768\n",
       "A     30422\n",
       "B     21473\n",
       "MB     3396\n",
       "MA     2859\n",
       "Name: Prob_SUBIR, dtype: int64"
      ]
     },
     "execution_count": 175,
     "metadata": {},
     "output_type": "execute_result"
    }
   ],
   "source": [
    "dd.value_counts()"
   ]
  },
  {
   "cell_type": "code",
   "execution_count": 176,
   "id": "f01b82cc",
   "metadata": {},
   "outputs": [],
   "source": [
    "dr1['Cat_Prob_SUBIR'] = dd"
   ]
  },
  {
   "cell_type": "code",
   "execution_count": 178,
   "id": "96faee91",
   "metadata": {},
   "outputs": [],
   "source": [
    "#criando categoria dos dias da semana para avaliar se há dias da semana que consigo ver alguma relação\n",
    "dr1['DiaSemana'] = pd.DatetimeIndex(dr1.index).day_name()"
   ]
  },
  {
   "cell_type": "code",
   "execution_count": 184,
   "id": "fa7edc1f",
   "metadata": {},
   "outputs": [],
   "source": [
    "dr1['DiaSemana'].replace('Wednesday', 'Quarta', inplace=True)\n",
    "dr1['DiaSemana'].replace('Sunday', 'Domingo', inplace=True)\n",
    "dr1['DiaSemana'].replace('Monday', 'Segunda', inplace=True)\n",
    "dr1['DiaSemana'].replace('Tuesday', 'Terça', inplace=True)\n",
    "dr1['DiaSemana'].replace('Saturday', 'Sabado', inplace=True)\n",
    "dr1['DiaSemana'].replace('Friday', 'Sexta', inplace=True)\n",
    "dr1['DiaSemana'].replace('Thursday', 'Quinta', inplace=True)"
   ]
  },
  {
   "cell_type": "markdown",
   "id": "082e8a16",
   "metadata": {},
   "source": [
    "## Filtrando Dados"
   ]
  },
  {
   "cell_type": "code",
   "execution_count": 187,
   "id": "2226cad8",
   "metadata": {},
   "outputs": [],
   "source": [
    "d2 = dr1.copy()"
   ]
  },
  {
   "cell_type": "code",
   "execution_count": 188,
   "id": "40ac8e4c",
   "metadata": {},
   "outputs": [
    {
     "data": {
      "text/plain": [
       "count    108918.000000\n",
       "mean          7.664454\n",
       "std           7.733233\n",
       "min           0.000000\n",
       "25%           2.000000\n",
       "50%           5.000000\n",
       "75%          11.000000\n",
       "max          67.000000\n",
       "Name: Ind_C, dtype: float64"
      ]
     },
     "execution_count": 188,
     "metadata": {},
     "output_type": "execute_result"
    }
   ],
   "source": [
    "d2['Ind_C'].describe()"
   ]
  },
  {
   "cell_type": "code",
   "execution_count": 189,
   "id": "19f89898",
   "metadata": {},
   "outputs": [],
   "source": [
    "filtro1 = d2['Ind_C'] > 30"
   ]
  },
  {
   "cell_type": "code",
   "execution_count": 190,
   "id": "2aa4dd73",
   "metadata": {},
   "outputs": [
    {
     "data": {
      "text/plain": [
       "False    106846\n",
       "True       2072\n",
       "Name: Ind_C, dtype: int64"
      ]
     },
     "execution_count": 190,
     "metadata": {},
     "output_type": "execute_result"
    }
   ],
   "source": [
    "filtro1.value_counts()"
   ]
  },
  {
   "cell_type": "code",
   "execution_count": 191,
   "id": "a0cb7fbd",
   "metadata": {},
   "outputs": [],
   "source": [
    "filtro2 = d2['Prob_SUBIR'] >= 0.8"
   ]
  },
  {
   "cell_type": "code",
   "execution_count": 192,
   "id": "7bf324f2",
   "metadata": {},
   "outputs": [
    {
     "data": {
      "text/plain": [
       "False    107324\n",
       "True       1594\n",
       "Name: Prob_SUBIR, dtype: int64"
      ]
     },
     "execution_count": 192,
     "metadata": {},
     "output_type": "execute_result"
    }
   ],
   "source": [
    "filtro2.value_counts()"
   ]
  },
  {
   "cell_type": "code",
   "execution_count": 193,
   "id": "534e0131",
   "metadata": {},
   "outputs": [],
   "source": [
    "filtro3 = d2['Power_C'] >= 50"
   ]
  },
  {
   "cell_type": "code",
   "execution_count": 194,
   "id": "dca16d73",
   "metadata": {},
   "outputs": [
    {
     "data": {
      "text/plain": [
       "False    77723\n",
       "True     31195\n",
       "Name: Power_C, dtype: int64"
      ]
     },
     "execution_count": 194,
     "metadata": {},
     "output_type": "execute_result"
    }
   ],
   "source": [
    "filtro3.value_counts()"
   ]
  },
  {
   "cell_type": "code",
   "execution_count": 196,
   "id": "4cdfef08",
   "metadata": {},
   "outputs": [],
   "source": [
    "filtro4 = filtro1 & filtro2 & filtro3"
   ]
  },
  {
   "cell_type": "code",
   "execution_count": 198,
   "id": "4270b0cf",
   "metadata": {},
   "outputs": [
    {
     "data": {
      "text/plain": [
       "False    108117\n",
       "True        801\n",
       "dtype: int64"
      ]
     },
     "execution_count": 198,
     "metadata": {},
     "output_type": "execute_result"
    }
   ],
   "source": [
    "filtro4.value_counts()"
   ]
  },
  {
   "cell_type": "code",
   "execution_count": 199,
   "id": "fcdb3ba3",
   "metadata": {},
   "outputs": [],
   "source": [
    "d2['DevoComprar'] = filtro4 #pelos critérios que escolhi agora sei no DF quais dias e ações devo comprar"
   ]
  },
  {
   "cell_type": "code",
   "execution_count": 211,
   "id": "d787d4bf",
   "metadata": {},
   "outputs": [],
   "source": [
    "d2.to_csv('DADOS_RET_CATEGORIAS.csv')"
   ]
  },
  {
   "cell_type": "code",
   "execution_count": null,
   "id": "1119e404",
   "metadata": {},
   "outputs": [],
   "source": []
  }
 ],
 "metadata": {
  "kernelspec": {
   "display_name": "Python 3 (ipykernel)",
   "language": "python",
   "name": "python3"
  },
  "language_info": {
   "codemirror_mode": {
    "name": "ipython",
    "version": 3
   },
   "file_extension": ".py",
   "mimetype": "text/x-python",
   "name": "python",
   "nbconvert_exporter": "python",
   "pygments_lexer": "ipython3",
   "version": "3.11.4"
  }
 },
 "nbformat": 4,
 "nbformat_minor": 5
}
